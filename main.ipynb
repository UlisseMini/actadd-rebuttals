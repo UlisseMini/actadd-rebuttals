{
 "cells": [
  {
   "cell_type": "code",
   "execution_count": null,
   "metadata": {},
   "outputs": [],
   "source": [
    "# for first run on vast.ai\n",
    "%pip install transformer_lens matplotlib openai python-dotenv"
   ]
  },
  {
   "cell_type": "code",
   "execution_count": 10,
   "metadata": {},
   "outputs": [
    {
     "data": {
      "text/plain": [
       "True"
      ]
     },
     "execution_count": 10,
     "metadata": {},
     "output_type": "execute_result"
    }
   ],
   "source": [
    "import torch\n",
    "from transformer_lens import HookedTransformer\n",
    "import matplotlib.pyplot as plt\n",
    "import numpy as np\n",
    "from typing import Dict, Union, List\n",
    "from openai import OpenAI, RateLimitError\n",
    "from tqdm import tqdm\n",
    "from dotenv import load_dotenv\n",
    "import time\n",
    "import os\n",
    "from datasets import load_dataset\n",
    "import json\n",
    "import random\n",
    "\n",
    "load_dotenv()"
   ]
  },
  {
   "cell_type": "markdown",
   "metadata": {},
   "source": [
    "## OpenAI client & helpers"
   ]
  },
  {
   "cell_type": "code",
   "execution_count": 2,
   "metadata": {},
   "outputs": [
    {
     "name": "stderr",
     "output_type": "stream",
     "text": [
      "Evaluating batch:   0%|          | 0/2 [00:00<?, ?it/s]"
     ]
    },
    {
     "name": "stderr",
     "output_type": "stream",
     "text": [
      "Evaluating batch: 100%|██████████| 2/2 [00:00<00:00,  2.53it/s]\n"
     ]
    },
    {
     "data": {
      "text/plain": [
       "[True, False]"
      ]
     },
     "execution_count": 2,
     "metadata": {},
     "output_type": "execute_result"
    }
   ],
   "source": [
    "client = OpenAI(api_key = os.getenv(\"OPENAI_API_KEY\"))\n",
    "\n",
    "def process_batch(args):\n",
    "    batch, topic = args\n",
    "    done = False\n",
    "    backoff = 4\n",
    "    while not done:\n",
    "        try:\n",
    "            response = client.chat.completions.create(\n",
    "                model=\"gpt-4o-mini\",\n",
    "                messages=[\n",
    "                    {\n",
    "                        \"role\": \"system\",\n",
    "                        \"content\": \"You are a helpful assistant that answers yes or no questions.\"\n",
    "                    },\n",
    "                    {\n",
    "                        \"role\": \"user\", \n",
    "                        \"content\": f\"Is this text related to {topic}? Answer either 'yes' or 'no'\\nText:\\n\\n{batch}\"\n",
    "                    }\n",
    "                ],\n",
    "                max_tokens=3,\n",
    "                temperature=0,\n",
    "            )\n",
    "            return \"yes\" in response.choices[0].message.content.lower()\n",
    "        except RateLimitError as e:\n",
    "            print(f\"Rate limit error: {e}\")\n",
    "            time.sleep(backoff)\n",
    "            backoff *= 2\n",
    "            if backoff > 128:\n",
    "                raise e\n",
    "\n",
    "def related(big_batch: List[str], topic: str, progress=True, num_workers=20) -> List[bool]:\n",
    "    from concurrent.futures import ThreadPoolExecutor\n",
    "    \n",
    "    # Create batch/topic pairs for mapping\n",
    "    batch_args = [(text, topic) for text in big_batch]\n",
    "    \n",
    "    # Process in parallel batches of num_workers\n",
    "    with ThreadPoolExecutor(max_workers=num_workers) as executor:\n",
    "        futures = [executor.submit(process_batch, arg) for arg in batch_args]\n",
    "        results = list(tqdm(\n",
    "            (f.result() for f in futures),\n",
    "            total=len(batch_args),\n",
    "            desc=\"Evaluating batch\",\n",
    "            disable=not progress\n",
    "        ))\n",
    "    \n",
    "    return results\n",
    "\n",
    "related([\"I like the mona lisa\", \"Walruses are fascinating creatures\"], \"art\")"
   ]
  },
  {
   "cell_type": "code",
   "execution_count": 3,
   "metadata": {},
   "outputs": [
    {
     "name": "stdout",
     "output_type": "stream",
     "text": [
      "Loaded pretrained model gpt2-xl into HookedTransformer\n",
      "Moving model to device:  cuda\n"
     ]
    }
   ],
   "source": [
    "torch.set_grad_enabled(False)  # save memory\n",
    "model = HookedTransformer.from_pretrained(\"gpt2-xl\")\n",
    "model.eval()\n",
    "if torch.cuda.is_available():\n",
    "  model.to('cuda')"
   ]
  },
  {
   "cell_type": "code",
   "execution_count": 4,
   "metadata": {},
   "outputs": [],
   "source": [
    "SEED = 0\n",
    "sampling_kwargs = dict(temperature=1.0, top_p=0.3, freq_penalty=1.0, max_new_tokens=50)"
   ]
  },
  {
   "cell_type": "code",
   "execution_count": 5,
   "metadata": {},
   "outputs": [],
   "source": [
    "tlen = lambda prompt: model.to_tokens(prompt).shape[1]\n",
    "pad_right = lambda prompt, length: prompt + \" \" * (length - tlen(prompt))\n",
    "\n",
    "def pad_both(p_add, p_sub):\n",
    "  l = max(tlen(p_add), tlen(p_sub))\n",
    "  return pad_right(p_add, l), pad_right(p_sub, l)"
   ]
  },
  {
   "cell_type": "code",
   "execution_count": 6,
   "metadata": {},
   "outputs": [],
   "source": [
    "def get_resid_pre(prompt: str, layer: int):\n",
    "    name = f\"blocks.{layer}.hook_resid_pre\"\n",
    "    cache, caching_hooks, _ = model.get_caching_hooks(lambda n: n == name)\n",
    "    with model.hooks(fwd_hooks=caching_hooks):\n",
    "        _ = model(prompt)\n",
    "    return cache[name]\n",
    "\n",
    "\n",
    "def get_act_diff(prompt_add: str, prompt_sub: str, layer: int):\n",
    "    act_add = get_resid_pre(prompt_add, layer)\n",
    "    act_sub = get_resid_pre(prompt_sub, layer)\n",
    "    return act_add - act_sub # if this errors you forgot to pad"
   ]
  },
  {
   "cell_type": "code",
   "execution_count": 7,
   "metadata": {},
   "outputs": [],
   "source": [
    "from functools import partial\n",
    "\n",
    "def ave_hook(act_diff, resid_pre, hook):\n",
    "    if resid_pre.shape[1] == 1:\n",
    "        return  # caching in model.generate for new tokens\n",
    "\n",
    "    # We only add to the prompt (first call), not the generated tokens.\n",
    "    ppos, apos = resid_pre.shape[1], act_diff.shape[1]\n",
    "    assert apos <= ppos, f\"More mod tokens ({apos}) then prompt tokens ({ppos})!\"\n",
    "\n",
    "    # add to the beginning (position-wise) of the activations\n",
    "    resid_pre[:, :apos, :] += act_diff\n",
    "\n",
    "\n",
    "def hooked_generate(prompt_batch: List[str], fwd_hooks=[], seed=None, **kwargs):\n",
    "    if seed is not None:\n",
    "        torch.manual_seed(seed)\n",
    "\n",
    "    with model.hooks(fwd_hooks=fwd_hooks):\n",
    "        tokenized = model.to_tokens(prompt_batch)\n",
    "        r = model.generate(input=tokenized, do_sample=True, verbose=False, **kwargs)\n",
    "    return r\n",
    "\n",
    "\n",
    "def generate_hooked(prompt_batch: List[str], prompt_add: str, prompt_sub: str, act_name: int, coeff: float):\n",
    "  prompt_add, prompt_sub = pad_both(prompt_add, prompt_sub)\n",
    "  act_diff = coeff*get_act_diff(prompt_add, prompt_sub, act_name)\n",
    "  editing_hooks = [(f\"blocks.{act_name}.hook_resid_pre\", partial(ave_hook, act_diff))]\n",
    "  hooked_res = hooked_generate(prompt_batch, editing_hooks, seed=SEED, **sampling_kwargs)\n",
    "  return hooked_res\n",
    "\n",
    "\n",
    "def generate_both(prompt_batch: List[str], prompt_add: str, prompt_sub: str, act_name: int, coeff: float):\n",
    "  hooked_res = generate_hooked(prompt_batch, prompt_add, prompt_sub, act_name, coeff)\n",
    "  vanilla_res = hooked_generate(prompt_batch, [], seed=SEED, **sampling_kwargs)\n",
    "  return hooked_res, vanilla_res"
   ]
  },
  {
   "cell_type": "code",
   "execution_count": 8,
   "metadata": {},
   "outputs": [],
   "source": [
    "# Specific to the love/hate example\n",
    "# commented out bc wastes precious memory demonstrating stuff that works\n",
    "if 0:\n",
    "    prompt_add, prompt_sub = \"science\", \"\"\n",
    "    coeff = 1.\n",
    "    act_name = 6\n",
    "    prompt = \"Did you know that\"\n",
    "\n",
    "    hooked_res, vanilla_res = generate_both([prompt]*20, prompt_add, prompt_sub, act_name, coeff)\n",
    "\n",
    "    # Print results, removing the ugly beginning of sequence token\n",
    "    # NOTE: Has endoftext a bunch too\n",
    "    hooked_strs = model.to_string(hooked_res[:, 1:])\n",
    "    vanilla_strs = model.to_string(vanilla_res[:, 1:])\n",
    "\n",
    "    hooked_rel = related(hooked_strs, prompt_add)\n",
    "    vanilla_rel = related(vanilla_strs, prompt_add)\n",
    "    print()\n",
    "    print(f\"Hooked: {np.mean(hooked_rel)}\")\n",
    "    print(f\"Vanilla: {np.mean(vanilla_rel)}\")"
   ]
  },
  {
   "cell_type": "code",
   "execution_count": 11,
   "metadata": {},
   "outputs": [
    {
     "data": {
      "text/plain": [
       "[\"Honestly awful film, bad editing, awful lighting, dire dialog and scrappy screenplay.<br /><br />The lighting at is so bad there's moments you can't even see what's going on, I even tried to playing with the contrast and brightness so I could see\",\n",
       " \"This was bad enough. I really hope that there is no sequel. Maybe that is giving away part of the plot to let you know that it is open to the possibility, but no, it really isn't.<br /><br />There is really not at all special about this movie. Well, the\",\n",
       " \"OK, no one will confuse this with Citizen Kane but you've got to love a movie where the women are always topless. There are a few catfights and some kinky sex as well. On the other hand I hope they didn't overpay the guy who wrote the dialogue. Here's a\",\n",
       " 'I love this film. Tense with great characters. The kid from \"Sandlot\" is excellent as is Corey Feldman. When the kids storm the bank, it is pure adrenaline. Inside of the bank, it becomes a bit like a \"Lord of the Flies\" situation where they turn on each',\n",
       " 'I like action movies. I have a softspot for \"B\" flicks with bad dialogue and wooden acting. So, I\\'ve been wracking my brain to come up with one of my guilty pleasures that was worse than this blockbuster. I can\\'t. You\\'d be hard pressed to put together a',\n",
       " 'Yet another in the long line of \"Don\\'t\" films of the late 70\\'s and early 80\\'s yet this one is much more than that. This film is a highly underestimated low budget schlocker with a twist. It has the grainy quality and bizarre soundtrack that is typical of',\n",
       " 'I had borrowed the three Sarah movies from a friend, and had watched them while sick in bed during one weekend. I thoroughly enjoyed every one of them. I enjoyed how the last movie gave a glimpse of what Caleb and his sister were like when they grew up.',\n",
       " 'Yes! this movie was just bad in every way in things like cast,effects,boredom,excitement,and of course,being fantastic and we all know the four heroes in this one were a bit more colourful compared to the new ones but it still has to go,A fantastic bore',\n",
       " \"I would most definitely have to say that this is the most terrible movie I have ever seen. It's not just the actors that are bad, but also the fact that the camera person taped the wall and the clocks for about 5 minutes at a time. Anyone that likes this\",\n",
       " 'Right up (or down) there with Toys and Jurassic Park 2 and The Phantom Menace.<br /><br />The premise sounded cool, some of the commercials looked semi-promising, but alas, the entire movie had about 30 seconds of neat shot-ness, and that was shown on the']"
      ]
     },
     "execution_count": 11,
     "metadata": {},
     "output_type": "execute_result"
    }
   ],
   "source": [
    "# filter imdb prompts to remove all things that already talk about one of the topics\n",
    "TOPICS = [\"art\", \"finance\", \"music\", \"politics\", \"science\", \"weddings\"]\n",
    "\n",
    "try:\n",
    "  #1/0 # uncomment to regenerate cache\n",
    "  imdb_prompts = json.load(open('imdb_prompts_filtered.json'))\n",
    "except Exception as e:\n",
    "  ds = load_dataset(\"stanfordnlp/imdb\")\n",
    "\n",
    "  imdb_sample = random.sample(ds['test']['text'], 3000)\n",
    "  imdb_prompts = [x[:256] for x in imdb_sample]\n",
    "  imdb_prompts = [\" \".join(x.split(\" \")[:-1]) for x in imdb_prompts]\n",
    "  imdb_prompts[:10]\n",
    "\n",
    "  for topic in TOPICS:\n",
    "    rel = related(imdb_prompts, topic, num_workers=100, progress=True)\n",
    "    imdb_prompts = [x for x, y in zip(imdb_prompts, rel) if not y]\n",
    "    print(f\"{topic}: removed {sum(rel)} ({np.mean(rel)*100:.1f}%) new len prompts: {len(imdb_prompts)}\")\n",
    "    open('imdb_prompts_filtered.json', 'w').write(json.dumps(imdb_prompts))\n",
    "\n",
    "imdb_prompts[:10]"
   ]
  },
  {
   "cell_type": "code",
   "execution_count": 14,
   "metadata": {},
   "outputs": [
    {
     "name": "stderr",
     "output_type": "stream",
     "text": [
      "100%|██████████| 100/100 [00:00<00:00, 3057.34it/s]\n"
     ]
    }
   ],
   "source": [
    "# Configuration\n",
    "COEFFICIENTS = [0.0, 0.5, 1.0, 2.0]\n",
    "SEED = 0\n",
    "# PROMPT_BATCH = [\"Did you know that\"] * 100 # old paper thing\n",
    "# char level instead of token level\n",
    "# PROMPT_BATCH = [\" \".join(x[:100].split(\" \")[:-1]) for x in imdb_prompts[:100]]\n",
    "\n",
    "# use model.to_tokens to truncate each to 32 tokens\n",
    "PROMPT_BATCH = [model.to_string(model.to_tokens(x)[0][:32].tolist()[1:]) for x in tqdm(imdb_prompts[:1000])]\n",
    "\n",
    "act_name = 6"
   ]
  },
  {
   "cell_type": "code",
   "execution_count": 13,
   "metadata": {},
   "outputs": [],
   "source": [
    "def generate_big_hooked_batch(prompt_batch: List[str], padd: str, psub: str, act_name: int, coeff: float):\n",
    "  \"Generate in cases where processing prompt_batch all at once would make us run out of memory.\"\n",
    "\n",
    "  batch_size = 1000 # XXX: REDUCE THIS IF UR NOT ON A h100\n",
    "\n",
    "  res_strs = []\n",
    "  disable_progress = len(prompt_batch) < batch_size\n",
    "  for i in tqdm(range(0, len(prompt_batch), batch_size), desc=\"Prompt batch\", disable=disable_progress):\n",
    "    batch = prompt_batch[i:i+batch_size]\n",
    "    hooked_res = generate_hooked(batch, padd, psub, act_name, coeff)\n",
    "    res_strs += model.to_string(hooked_res[:, 1:])\n",
    "  return [x.replace(\"<|endoftext|>\", \"\") for x in res_strs]"
   ]
  },
  {
   "cell_type": "markdown",
   "metadata": {},
   "source": [
    "## Topic steering\n",
    "\n",
    "Re-does the topic steering experiment. Very customizable."
   ]
  },
  {
   "cell_type": "code",
   "execution_count": 19,
   "metadata": {},
   "outputs": [
    {
     "name": "stderr",
     "output_type": "stream",
     "text": [
      "topics:   0%|          | 0/6 [00:00<?, ?it/s]"
     ]
    },
    {
     "name": "stdout",
     "output_type": "stream",
     "text": [
      "topic art coeff 0.0 -- rel: 0.2\n",
      "topic art coeff 0.5 -- rel: 0.19\n"
     ]
    },
    {
     "name": "stderr",
     "output_type": "stream",
     "text": [
      "topics:  17%|█▋        | 1/6 [00:16<01:24, 16.95s/it]"
     ]
    },
    {
     "name": "stdout",
     "output_type": "stream",
     "text": [
      "topic art coeff 2.0 -- rel: 0.35\n",
      "topic finance coeff 0.0 -- rel: 0.01\n",
      "topic finance coeff 0.5 -- rel: 0.0\n",
      "topic finance coeff 1.0 -- rel: 0.02\n"
     ]
    },
    {
     "name": "stderr",
     "output_type": "stream",
     "text": [
      "topics:  33%|███▎      | 2/6 [00:32<01:05, 16.36s/it]"
     ]
    },
    {
     "name": "stdout",
     "output_type": "stream",
     "text": [
      "topic finance coeff 2.0 -- rel: 0.2\n",
      "topic music coeff 0.0 -- rel: 0.01\n",
      "topic music coeff 1.0 -- rel: 0.16\n",
      "topic music coeff 0.5 -- rel: 0.02\n"
     ]
    },
    {
     "name": "stderr",
     "output_type": "stream",
     "text": [
      "topics:  50%|█████     | 3/6 [00:50<00:50, 16.83s/it]"
     ]
    },
    {
     "name": "stdout",
     "output_type": "stream",
     "text": [
      "topic music coeff 2.0 -- rel: 0.32\n",
      "topic politics coeff 0.0 -- rel: 0.03\n",
      "topic politics coeff 0.5 -- rel: 0.04\n",
      "topic politics coeff 1.0 -- rel: 0.08\n"
     ]
    },
    {
     "name": "stderr",
     "output_type": "stream",
     "text": [
      "topics:  67%|██████▋   | 4/6 [01:07<00:34, 17.02s/it]"
     ]
    },
    {
     "name": "stdout",
     "output_type": "stream",
     "text": [
      "topic politics coeff 2.0 -- rel: 0.29\n",
      "topic science coeff 0.0 -- rel: 0.03\n",
      "topic science coeff 0.5 -- rel: 0.01\n"
     ]
    },
    {
     "name": "stderr",
     "output_type": "stream",
     "text": [
      "topics:  83%|████████▎ | 5/6 [01:25<00:17, 17.46s/it]"
     ]
    },
    {
     "name": "stdout",
     "output_type": "stream",
     "text": [
      "topic science coeff 1.0 -- rel: 0.14\n",
      "topic science coeff 2.0 -- rel: 0.27\n",
      "topic weddings coeff 0.0 -- rel: 0.0\n",
      "topic weddings coeff 0.5 -- rel: 0.01\n"
     ]
    }
   ],
   "source": [
    "from threading import Thread\n",
    "\n",
    "completions = {}\n",
    "results = {}\n",
    "\n",
    "PROMPT_TEMPLATE = \"I talk about {topic} constantly\"\n",
    "NEG_PROMPT_TEMPLATE = \"I do not talk about {topic} constantly\"\n",
    "\n",
    "# Initialize results\n",
    "for topic in TOPICS:\n",
    "    results[topic] = []\n",
    "\n",
    "threads = []\n",
    "\n",
    "# Generate completions and spawn related tasks\n",
    "for topic in tqdm(TOPICS, desc=\"topics\"):\n",
    "    prompt_add, prompt_sub = pad_both(PROMPT_TEMPLATE.format(topic=topic), \n",
    "                                    NEG_PROMPT_TEMPLATE.format(topic=topic))\n",
    "    completions[topic] = {}\n",
    "    \n",
    "    for coeff in COEFFICIENTS:\n",
    "        hooked_strs = generate_big_hooked_batch(PROMPT_BATCH, prompt_add, prompt_sub, \n",
    "                                              act_name, coeff)\n",
    "        completions[topic][coeff] = hooked_strs\n",
    "        \n",
    "        def run_related(t=topic, c=coeff, h=hooked_strs):\n",
    "            rel = related(h, t, num_workers=100, progress=False)\n",
    "            score = np.mean(rel)\n",
    "            results[t].append(score)\n",
    "            print(f\"topic {t} coeff {c} -- rel: {score}\")\n",
    "            \n",
    "        thread = Thread(target=run_related)\n",
    "        thread.start()\n",
    "        threads.append(thread)\n",
    "\n",
    "# Wait for all threads\n",
    "print(\"Waiting for threads to finish...\")\n",
    "for thread in threads:\n",
    "    thread.join()"
   ]
  },
  {
   "cell_type": "code",
   "execution_count": 22,
   "metadata": {},
   "outputs": [],
   "source": [
    "# save full results\n",
    "\n",
    "import time\n",
    "\n",
    "fname = f\"results/{int(time.time())}.json\"\n",
    "with open(fname, \"w\") as f:\n",
    "    json.dump({\n",
    "        \"results\": results,\n",
    "        \"completions\": completions,\n",
    "        \"meta\": {\n",
    "            \"coeffs\": COEFFICIENTS,\n",
    "            \"topics\": TOPICS,\n",
    "            \"act_name\": act_name,\n",
    "            \"seed\": SEED,\n",
    "            \"prompt_template\": PROMPT_TEMPLATE,\n",
    "            \"neg_prompt_template\": NEG_PROMPT_TEMPLATE,\n",
    "        },\n",
    "        \"prompts\": PROMPT_BATCH\n",
    "    }, f)\n",
    "\n",
    "print(f\"Saved results to {fname}\")"
   ]
  },
  {
   "cell_type": "code",
   "execution_count": 41,
   "metadata": {},
   "outputs": [
    {
     "name": "stdout",
     "output_type": "stream",
     "text": [
      "Loaded results from results/1732323963.json with 1000 prompts and coeffs [0.0, 0.5, 1.0, 2.0] and prompt templates:\n",
      " I talk about {topic} constantly \n",
      "and neg prompt templates:\n",
      " I do not talk about {topic} constantly\n"
     ]
    }
   ],
   "source": [
    "# Load results in case we want to plot a different one\n",
    "# TODO(easy): Past easy experiment graph explorer widget\n",
    "if 0:\n",
    "    fname = 'results/1732323963.json'\n",
    "    with open(fname) as f:\n",
    "        file_data = json.load(f)\n",
    "    results = file_data['results']\n",
    "    completions = file_data['completions']\n",
    "    COEFFICIENTS = file_data['meta']['coeffs']\n",
    "    TOPICS = file_data['meta']['topics']\n",
    "    act_name = file_data['meta']['act_name']\n",
    "    SEED = file_data['meta']['seed']\n",
    "    PROMPT_TEMPLATE = file_data['meta']['prompt_template']\n",
    "    NEG_PROMPT_TEMPLATE = file_data['meta']['neg_prompt_template']\n",
    "    PROMPT_BATCH = file_data['prompts']\n",
    "\n",
    "    print(\"Loaded results from\", fname, \"with\", len(PROMPT_BATCH), \"prompts\", \"and coeffs\", COEFFICIENTS, \"and prompt templates:\\n\", PROMPT_TEMPLATE, \"\\nand neg prompt templates:\\n\", NEG_PROMPT_TEMPLATE)\n"
   ]
  },
  {
   "cell_type": "code",
   "execution_count": 42,
   "metadata": {},
   "outputs": [
    {
     "data": {
      "image/png": "[encoded data removed]",
      "text/plain": [
       "<Figure size 1200x600 with 1 Axes>"
      ]
     },
     "metadata": {},
     "output_type": "display_data"
    }
   ],
   "source": [
    "# Create the topic steering plot WITH baseline included\n",
    "plt.figure(figsize=(12, 6))\n",
    "x = np.arange(len(TOPICS))\n",
    "width = 0.2\n",
    "\n",
    "subtract = True\n",
    "for i, coeff in enumerate(COEFFICIENTS):\n",
    "    relevance_scores = [results[topic][i]*100 for topic in TOPICS]\n",
    "    plt.bar(x + i * width, relevance_scores, width, label=f'c={coeff}')\n",
    "\n",
    "plt.xlabel('Topic')\n",
    "plt.ylabel('% evaluated as relevant')\n",
    "plt.title('gpt-4o-mini scored relevance of ActAdd completions on generic topics')\n",
    "plt.xticks(x + width * (len(COEFFICIENTS) - 1) / 2, TOPICS)\n",
    "\n",
    "plt.legend()\n",
    "plt.tight_layout()\n",
    "plt.show()"
   ]
  },
  {
   "cell_type": "code",
   "execution_count": 35,
   "metadata": {},
   "outputs": [
    {
     "data": {
      "image/png": "[encoded data removed]",
      "text/plain": [
       "<Figure size 1200x600 with 1 Axes>"
      ]
     },
     "metadata": {},
     "output_type": "display_data"
    }
   ],
   "source": [
    "# Create the visualization WITHOUT baseline included (show diffs)\n",
    "plt.figure(figsize=(12, 6))\n",
    "x = np.arange(len(TOPICS))\n",
    "width = 0.2\n",
    "\n",
    "subtract = True\n",
    "for i, coeff in enumerate(COEFFICIENTS[1:]):\n",
    "    relevance_scores = [results[topic][i]*100 for topic in TOPICS]\n",
    "    plt.bar(x + i * width, relevance_scores, width, label=f'c={coeff}')\n",
    "\n",
    "plt.xlabel('Topic')\n",
    "plt.ylabel('% evaluated as relevant minus no-editing baseline')\n",
    "plt.title('gpt-4o-mini scored relevance of ActAdd completions on generic topics')\n",
    "plt.xticks(x + width * (len(COEFFICIENTS[1:]) - 1) / 2, TOPICS)\n",
    "\n",
    "plt.legend()\n",
    "plt.tight_layout()\n",
    "plt.show()"
   ]
  },
  {
   "cell_type": "code",
   "execution_count": 62,
   "metadata": {},
   "outputs": [
    {
     "data": {
      "text/plain": [
       "138"
      ]
     },
     "execution_count": 62,
     "metadata": {},
     "output_type": "execute_result"
    }
   ],
   "source": [
    "len(PROMPT_BATCH[0])"
   ]
  },
  {
   "cell_type": "code",
   "execution_count": 63,
   "metadata": {},
   "outputs": [
    {
     "name": "stderr",
     "output_type": "stream",
     "text": [
      "100%|██████████| 4/4 [00:49<00:00, 12.42s/it]\n"
     ]
    }
   ],
   "source": [
    "# prompt_add, prompt_sub = \"I talk about weddings constantly\", \"I do not talk about weddings constantly\"\n",
    "# prompt_add, prompt_sub = pad_both(\"I talk about weddings constantly\", \"I do not talk about weddings constantly\")\n",
    "# coeff = 4.0\n",
    "\n",
    "# paper used https://arxiv.org/pdf/2308.10248v3\n",
    "# they also used ‘I went up to my friend and said’ as prompt, but\n",
    "# imdb \n",
    "prompt_add, prompt_sub = pad_both(\"weddings\", \"\")\n",
    "coeff = 1.0\n",
    "\n",
    "layer_completions = []\n",
    "layers = [2, 6, 16] # [0, 2, 4, 6, 8, 10, 16, 24, 32, 40, 47]\n",
    "# layers = list(range(0, 48))\n",
    "pbatch = [p[:16] for p in PROMPT_BATCH]\n",
    "for layer in tqdm(layers + [-1]):\n",
    "    if layer != -1:\n",
    "      hooked_res = generate_hooked(pbatch, prompt_add, prompt_sub, layer, coeff) \n",
    "    else:\n",
    "      hooked_res = generate_hooked(pbatch, prompt_add, prompt_sub, 0, 0) # baseline\n",
    "\n",
    "    layer_completions.append([\n",
    "        x.replace(\"<|endoftext|>\", \"\") for x in model.to_string(hooked_res[:, 1:])\n",
    "    ])\n",
    "  \n",
    "baseline_completion = layer_completions.pop()"
   ]
  },
  {
   "cell_type": "code",
   "execution_count": 58,
   "metadata": {},
   "outputs": [
    {
     "name": "stdout",
     "output_type": "stream",
     "text": [
      "wrote results/1732327446-weddings.json\n"
     ]
    }
   ],
   "source": [
    "fname = f\"results/{int(time.time())}-weddings.json\"\n",
    "with open(fname, \"w\") as f:\n",
    "    json.dump({\n",
    "        \"layer_completions\": layer_completions,\n",
    "        \"layers\": layers,\n",
    "        \"baseline_completion\": baseline_completion,\n",
    "        \"prompt_batch\": PROMPT_BATCH,\n",
    "        \"meta\": {\n",
    "            \"coeff\": coeff,\n",
    "            \"prompt_add\": prompt_add,\n",
    "            \"prompt_sub\": prompt_sub,\n",
    "            \"seed\": SEED,\n",
    "            \"act_name\": act_name,\n",
    "        }\n",
    "    }, f)\n",
    "    print(f\"wrote {fname}\")"
   ]
  },
  {
   "cell_type": "code",
   "execution_count": 65,
   "metadata": {},
   "outputs": [
    {
     "data": {
      "image/png": "[encoded data removed]",
      "text/plain": [
       "<Figure size 1200x600 with 1 Axes>"
      ]
     },
     "metadata": {},
     "output_type": "display_data"
    }
   ],
   "source": [
    "# Compute wedding-related completions\n",
    "wedding_words = (\n",
    "    \"wedding\", \"weddings\", \"wed\", \"marry\", \"married\",\n",
    "    \"marriage\", \"bride\", \"groom\", \"honeymoon\",\n",
    ")\n",
    "\n",
    "def contains_wedding_words(text: str) -> bool:\n",
    "    assert isinstance(text, str), f\"what the fuck is a '{type(text)}'\"\n",
    "    assert len(text) > 1, f\"bruh wtf just '{text}' is all i get\"\n",
    "    return any(word in wedding_words for word in text.lower().split())\n",
    "\n",
    "wedding_related_pct = [\n",
    "    np.mean([contains_wedding_words(x) for x in layer_completions])\n",
    "    for layer_completions in layer_completions\n",
    "]\n",
    "baseline_pct = np.mean([contains_wedding_words(x) for x in baseline_completion])\n",
    "\n",
    "# Create the visualization\n",
    "plt.figure(figsize=(12, 6))\n",
    "plt.plot(layers, wedding_related_pct, 'b-', linewidth=1)\n",
    "plt.axhline(y=baseline_pct, color='k', linestyle='--', alpha=0.3, label='baseline')\n",
    "\n",
    "plt.xlabel('Layer')\n",
    "plt.ylabel('% of completions containing wedding words')\n",
    "plt.grid(True, alpha=0.2)\n",
    "\n",
    "plt.legend()\n",
    "plt.tight_layout()\n",
    "plt.show()\n"
   ]
  },
  {
   "cell_type": "code",
   "execution_count": null,
   "metadata": {},
   "outputs": [],
   "source": []
  }
 ],
 "metadata": {
  "kernelspec": {
   "display_name": "Python 3",
   "language": "python",
   "name": "python3"
  },
  "language_info": {
   "codemirror_mode": {
    "name": "ipython",
    "version": 3
   },
   "file_extension": ".py",
   "mimetype": "text/x-python",
   "name": "python",
   "nbconvert_exporter": "python",
   "pygments_lexer": "ipython3",
   "version": "3.11.10"
  }
 },
 "nbformat": 4,
 "nbformat_minor": 2
}
