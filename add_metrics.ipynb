{
 "cells": [
  {
   "cell_type": "code",
   "execution_count": 26,
   "metadata": {},
   "outputs": [],
   "source": [
    "import os\n",
    "import json\n",
    "from transformers import pipeline\n",
    "from tqdm import tqdm"
   ]
  },
  {
   "cell_type": "markdown",
   "metadata": {},
   "source": [
    "## Add new metric over existing completions\n",
    "\n",
    "We don't want to recompute the expensive part of the grid, so we just\n",
    "add metrics on top of existing completions."
   ]
  },
  {
   "cell_type": "code",
   "execution_count": 7,
   "metadata": {},
   "outputs": [
    {
     "data": {
      "application/vnd.jupyter.widget-view+json": {
       "model_id": "e5f62d99aef942d4b77eb8e6cf8fb507",
       "version_major": 2,
       "version_minor": 0
      },
      "text/plain": [
       "model.safetensors:   0%|          | 0.00/1.42G [00:00<?, ?B/s]"
      ]
     },
     "metadata": {},
     "output_type": "display_data"
    }
   ],
   "source": [
    "sentiment_analysis = pipeline(\"sentiment-analysis\", model=\"siebert/sentiment-roberta-large-english\", device=\"cuda\")"
   ]
  },
  {
   "cell_type": "code",
   "execution_count": 11,
   "metadata": {},
   "outputs": [
    {
     "data": {
      "text/plain": [
       "[{'label': 'POSITIVE', 'score': 0.998561680316925},\n",
       " {'label': 'NEGATIVE', 'score': 0.9991401433944702}]"
      ]
     },
     "execution_count": 11,
     "metadata": {},
     "output_type": "execute_result"
    }
   ],
   "source": [
    "sentiment_analysis([\"I love you\", \"I hate you\"])"
   ]
  },
  {
   "cell_type": "code",
   "execution_count": 27,
   "metadata": {},
   "outputs": [
    {
     "name": "stderr",
     "output_type": "stream",
     "text": [
      "100%|██████████| 65/65 [00:34<00:00,  1.91it/s]\n",
      "100%|██████████| 65/65 [00:32<00:00,  1.97it/s]\n",
      "100%|██████████| 65/65 [00:33<00:00,  1.96it/s]\n"
     ]
    }
   ],
   "source": [
    "for exp_name in os.listdir(\"grid_results\"):\n",
    "    for f in tqdm(os.listdir(f\"grid_results/{exp_name}\"), desc=f\"adding sentiment to {exp_name}\"):\n",
    "        if f == \"meta.json\":\n",
    "            continue\n",
    "\n",
    "        with open(f\"grid_results/{exp_name}/{f}\") as fp:\n",
    "            d = json.load(fp)\n",
    "\n",
    "        generations = [c[len(p):].replace(\"<|end_of_text|>\", \"\") for c, p in zip(d[\"completions\"], d[\"prompt_batch\"])]\n",
    "        results = sentiment_analysis(generations)\n",
    "        prob_positive = [r[\"score\"] if r[\"label\"] == \"POSITIVE\" else 1 - r[\"score\"] for r in results]\n",
    "        d[\"sentiment\"] = prob_positive\n",
    "\n",
    "        with open(f\"grid_results/{exp_name}/{f}\", \"w\") as fp:\n",
    "            json.dump(d, fp)"
   ]
  }
 ],
 "metadata": {
  "kernelspec": {
   "display_name": "Python 3",
   "language": "python",
   "name": "python3"
  },
  "language_info": {
   "codemirror_mode": {
    "name": "ipython",
    "version": 3
   },
   "file_extension": ".py",
   "mimetype": "text/x-python",
   "name": "python",
   "nbconvert_exporter": "python",
   "pygments_lexer": "ipython3",
   "version": "3.10.12"
  }
 },
 "nbformat": 4,
 "nbformat_minor": 2
}
