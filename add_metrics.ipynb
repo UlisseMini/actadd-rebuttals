{
 "cells": [
  {
   "cell_type": "code",
   "execution_count": 2,
   "metadata": {},
   "outputs": [],
   "source": [
    "import os\n",
    "import json\n",
    "from transformers import pipeline\n",
    "from tqdm import tqdm"
   ]
  },
  {
   "cell_type": "markdown",
   "metadata": {},
   "source": [
    "## Add new metric over existing completions\n",
    "\n",
    "We don't want to recompute the expensive part of the grid, so we just\n",
    "add metrics on top of existing completions."
   ]
  },
  {
   "cell_type": "code",
   "execution_count": 3,
   "metadata": {},
   "outputs": [
    {
     "name": "stderr",
     "output_type": "stream",
     "text": [
      "/usr/local/lib/python3.10/dist-packages/torch/_utils.py:831: UserWarning: TypedStorage is deprecated. It will be removed in the future and UntypedStorage will be the only storage class. This should only matter to you if you are using storages directly.  To access UntypedStorage directly, use tensor.untyped_storage() instead of tensor.storage()\n",
      "  return self.fget.__get__(instance, owner)()\n"
     ]
    }
   ],
   "source": [
    "sentiment_analysis = pipeline(\"sentiment-analysis\", model=\"siebert/sentiment-roberta-large-english\", device=\"cuda\")"
   ]
  },
  {
   "cell_type": "code",
   "execution_count": 4,
   "metadata": {},
   "outputs": [
    {
     "data": {
      "text/plain": [
       "[{'label': 'POSITIVE', 'score': 0.998561680316925},\n",
       " {'label': 'NEGATIVE', 'score': 0.9991401433944702}]"
      ]
     },
     "execution_count": 4,
     "metadata": {},
     "output_type": "execute_result"
    }
   ],
   "source": [
    "sentiment_analysis([\"I love you\", \"I hate you\"])"
   ]
  },
  {
   "cell_type": "code",
   "execution_count": 1,
   "metadata": {},
   "outputs": [
    {
     "name": "stderr",
     "output_type": "stream",
     "text": [
      "adding sentiment to toxicity_n64: 100%|██████████| 65/65 [00:00<00:00, 1778.37it/s]\n",
      "adding sentiment to negative_n64: 100%|██████████| 65/65 [00:00<00:00, 3272.00it/s]\n",
      "adding sentiment to positive_n64: 100%|██████████| 65/65 [00:00<00:00, 3852.23it/s]\n",
      "adding sentiment to positive_n1024:   3%|▎         | 10/312 [00:11<05:53,  1.17s/it]You seem to be using the pipelines sequentially on GPU. In order to maximize efficiency please use a dataset\n",
      "adding sentiment to positive_n1024:   5%|▌         | 17/312 [00:19<05:55,  1.20s/it]"
     ]
    }
   ],
   "source": [
    "def add_sentiment(exp_name):\n",
    "    for f in tqdm(os.listdir(f\"grid_results/{exp_name}\"), desc=f\"adding sentiment to {exp_name}\"):\n",
    "        if f == \"meta.json\":\n",
    "            continue\n",
    "\n",
    "        with open(f\"grid_results/{exp_name}/{f}\") as fp:\n",
    "            d = json.load(fp)\n",
    "\n",
    "        if \"sentiment\" in d:\n",
    "            continue # already computed\n",
    "\n",
    "        generations = [c[len(p):].replace(\"<|end_of_text|>\", \"\") for c, p in zip(d[\"completions\"], d[\"prompt_batch\"])]\n",
    "        results = sentiment_analysis(generations)\n",
    "        prob_positive = [r[\"score\"] if r[\"label\"] == \"POSITIVE\" else 1 - r[\"score\"] for r in results]\n",
    "        d[\"sentiment\"] = prob_positive\n",
    "\n",
    "        with open(f\"grid_results/{exp_name}/{f}\", \"w\") as fp:\n",
    "            json.dump(d, fp)\n",
    "\n",
    "for exp_name in os.listdir(\"grid_results\"):\n",
    "    add_sentiment(exp_name)"
   ]
  },
  {
   "cell_type": "code",
   "execution_count": null,
   "metadata": {},
   "outputs": [],
   "source": [
    "import time\n",
    "while True:\n",
    "    time.sleep(60)\n",
    "    for exp_name in os.listdir(\"grid_results\"):\n",
    "        add_sentiment(exp_name)"
   ]
  }
 ],
 "metadata": {
  "kernelspec": {
   "display_name": "Python 3",
   "language": "python",
   "name": "python3"
  },
  "language_info": {
   "codemirror_mode": {
    "name": "ipython",
    "version": 3
   },
   "file_extension": ".py",
   "mimetype": "text/x-python",
   "name": "python",
   "nbconvert_exporter": "python",
   "pygments_lexer": "ipython3",
   "version": "3.10.12"
  }
 },
 "nbformat": 4,
 "nbformat_minor": 2
}
